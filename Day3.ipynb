{
 "cells": [
  {
   "cell_type": "code",
   "execution_count": null,
   "metadata": {},
   "outputs": [],
   "source": [
    "# arithmetic operators\n",
    "a=10\n",
    "b=20\n",
    "print(a+b)\n",
    "print(a-b)\n",
    "print(a*b)\n",
    "print(a/b)\n",
    "print(a%b)\n",
    "print(a//b)\n",
    "print(a**b)\n",
    "print(pow(2,4))"
   ]
  },
  {
   "cell_type": "code",
   "execution_count": null,
   "metadata": {},
   "outputs": [],
   "source": [
    "# relational & comparision operator <,>,<=,>=,!=,==\n",
    "print(30<50)\n",
    "print(70>50)\n",
    "print(30>=29)\n",
    "print(40<=50)\n",
    "print(2==2))\n",
    "print(10!=5)\n",
    "print(2==1\n",
    "print(15!=15)\n"
   ]
  },
  {
   "cell_type": "code",
   "execution_count": null,
   "metadata": {},
   "outputs": [],
   "source": [
    "# logical operator And\n",
    "print(False and False)\n",
    "print(False and True)\n",
    "print(True and False)\n",
    "print(True and True)"
   ]
  },
  {
   "cell_type": "code",
   "execution_count": null,
   "metadata": {},
   "outputs": [],
   "source": [
    "# logical operators Or\n",
    "print(False or False)\n",
    "print(False or True)\n",
    "print(True or False)\n",
    "print(True or True)"
   ]
  },
  {
   "cell_type": "code",
   "execution_count": null,
   "metadata": {},
   "outputs": [],
   "source": [
    "# logical operators not\n",
    "print(not(False and False))\n",
    "print(not(False and True))\n",
    "print(not(True and False))\n",
    "print(not(True and True))"
   ]
  },
  {
   "cell_type": "code",
   "execution_count": null,
   "metadata": {},
   "outputs": [],
   "source": [
    "# not with or\n",
    "print(not(False or False))\n",
    "print(not(False or True))\n",
    "print(not(True or False))\n",
    "print(not(True or True))"
   ]
  },
  {
   "cell_type": "code",
   "execution_count": null,
   "metadata": {},
   "outputs": [],
   "source": [
    "print(10>9 and 5<4)\n",
    "print(10==10 and 9!=9)\n",
    "print(9!=5 or 5==5)\n",
    "print(not(100>99 and 50<20))"
   ]
  },
  {
   "cell_type": "code",
   "execution_count": null,
   "metadata": {},
   "outputs": [],
   "source": [
    "a=5\n",
    "a+=5\n",
    "a-=6\n",
    "a*=4\n",
    "a/=8\n",
    "a"
   ]
  },
  {
   "cell_type": "markdown",
   "metadata": {},
   "source": [
    "## bitwise operator\n"
   ]
  },
  {
   "cell_type": "code",
   "execution_count": null,
   "metadata": {},
   "outputs": [],
   "source": [
    "2&2\n",
    "10&5\n",
    "11|6\n",
    "\n",
    "\n"
   ]
  },
  {
   "cell_type": "code",
   "execution_count": null,
   "metadata": {},
   "outputs": [],
   "source": [
    "20^10"
   ]
  },
  {
   "cell_type": "code",
   "execution_count": null,
   "metadata": {},
   "outputs": [],
   "source": [
    "ord('A')\n",
    "ord('a')\n",
    "chr(97)"
   ]
  },
  {
   "cell_type": "code",
   "execution_count": null,
   "metadata": {},
   "outputs": [],
   "source": [
    "# membership in operator\n",
    "s=\"welcome to python workshop\"\n",
    "'to' in s\n",
    "'too' in s\n",
    "'help' not in s\n"
   ]
  },
  {
   "cell_type": "code",
   "execution_count": null,
   "metadata": {},
   "outputs": [],
   "source": [
    "# identity operators:is ,is not\n",
    "n='hello'\n",
    "m='world' \n",
    "n is not m\n"
   ]
  },
  {
   "cell_type": "code",
   "execution_count": null,
   "metadata": {},
   "outputs": [],
   "source": [
    "n='hello'\n",
    "m='world'\n",
    "n is m"
   ]
  },
  {
   "cell_type": "code",
   "execution_count": null,
   "metadata": {},
   "outputs": [],
   "source": [
    "# control statements or conditional stataments\n",
    "# if elif else\n",
    "# syntax\n",
    "if condition:\n",
    "     statements\n",
    "elif condition:\n",
    "        statements\n",
    "else:\n",
    "    statements\n",
    "    \n"
   ]
  },
  {
   "cell_type": "code",
   "execution_count": null,
   "metadata": {},
   "outputs": [],
   "source": [
    "n=int(input('enter the number:-'))\n",
    "if n%2==0:\n",
    "    print(n,'even number')\n",
    "else:\n",
    "    print(n,'odd number')"
   ]
  },
  {
   "cell_type": "code",
   "execution_count": null,
   "metadata": {},
   "outputs": [],
   "source": [
    "n=int(input('enter the number:-'))\n",
    "if n%2!=0:\n",
    "     print(n, 'odd number')\n",
    "else:\n",
    "    print(n, 'even number')"
   ]
  },
  {
   "cell_type": "code",
   "execution_count": null,
   "metadata": {},
   "outputs": [],
   "source": [
    "n=int(input('enter the day:-'))\n",
    "if n==0:\n",
    "    print('sunday')\n",
    "elif n==1:\n",
    "    print('monday')\n",
    "elif n==2:\n",
    "    print('tuesday')\n",
    "elif n==3:\n",
    "    print('wednesday')\n",
    "elif n==4:\n",
    "    print('thursday')\n",
    "elif n==5:\n",
    "    print('friday')\n",
    "elif n==6:\n",
    "    print('saturday')\n",
    "else:\n",
    "    print('invalid day')\n",
    "    "
   ]
  },
  {
   "cell_type": "code",
   "execution_count": null,
   "metadata": {},
   "outputs": [],
   "source": [
    "# iterations\n",
    "# for,while\n",
    "# syntax\n",
    "# for variable in range(inclusive,exclusive,step) or(start,end,step):\n",
    "   print(variablename)"
   ]
  },
  {
   "cell_type": "code",
   "execution_count": null,
   "metadata": {},
   "outputs": [],
   "source": [
    "for temp in range(10+1):\n",
    "    print(temp)"
   ]
  },
  {
   "cell_type": "code",
   "execution_count": null,
   "metadata": {},
   "outputs": [],
   "source": [
    "# incrtement\n",
    "for i in range(1,100+1):\n",
    "    print(i,end=\"-->\")"
   ]
  },
  {
   "cell_type": "code",
   "execution_count": null,
   "metadata": {},
   "outputs": [],
   "source": [
    "# decrement\n",
    "for rev in range(100,1,-1):\n",
    "    print(rev, end=\"ani\")"
   ]
  },
  {
   "cell_type": "code",
   "execution_count": null,
   "metadata": {},
   "outputs": [],
   "source": [
    "for even in range(0,50+1,2):\n",
    "        print(even,end=' ')"
   ]
  },
  {
   "cell_type": "code",
   "execution_count": null,
   "metadata": {},
   "outputs": [],
   "source": [
    "for odd in range(1,50+1,2):\n",
    "       print(odd,end=' ')"
   ]
  },
  {
   "cell_type": "code",
   "execution_count": null,
   "metadata": {},
   "outputs": [],
   "source": [
    "for dif in range(0,100,10):\n",
    "    print(dif,end=' ')"
   ]
  },
  {
   "cell_type": "code",
   "execution_count": null,
   "metadata": {},
   "outputs": [],
   "source": [
    "num=int(input('enter table:--'))\n",
    "for i in range(1,10+1):\n",
    "     print(num,'*',i,'=',num*i)\n",
    "   "
   ]
  },
  {
   "cell_type": "code",
   "execution_count": null,
   "metadata": {},
   "outputs": [],
   "source": [
    "for div in range(2,10,2):\n",
    "    print(div,end=' ')"
   ]
  },
  {
   "cell_type": "code",
   "execution_count": null,
   "metadata": {},
   "outputs": [],
   "source": [
    "num=int(input('Enter how many tables:-'))\n",
    "for num in range(1,5+1):\n",
    "    for i in range(1,10+1):\n",
    "         print(num,'*',i,'=',num*i)\n"
   ]
  },
  {
   "cell_type": "code",
   "execution_count": null,
   "metadata": {},
   "outputs": [],
   "source": [
    "# facotorial of a number using while loop and for loop\n",
    "\n"
   ]
  },
  {
   "cell_type": "code",
   "execution_count": null,
   "metadata": {},
   "outputs": [],
   "source": [
    "# find factors using for loop and while loop"
   ]
  },
  {
   "cell_type": "code",
   "execution_count": null,
   "metadata": {},
   "outputs": [],
   "source": [
    "# while loop we can execute a set of statements condition is true\n",
    "# while condition:\n",
    "        # statements\n",
    "   "
   ]
  },
  {
   "cell_type": "code",
   "execution_count": null,
   "metadata": {},
   "outputs": [],
   "source": [
    "i=1\n",
    "while i<=20:\n",
    "    print(i)\n",
    "    i+=1"
   ]
  },
  {
   "cell_type": "code",
   "execution_count": null,
   "metadata": {},
   "outputs": [],
   "source": [
    "i=20\n",
    "while i>=1:\n",
    "    print(i)\n",
    "    i-=1"
   ]
  },
  {
   "cell_type": "code",
   "execution_count": null,
   "metadata": {},
   "outputs": [],
   "source": [
    "n=1\n",
    "while(n<=10):\n",
    "    if n%2==0:\n",
    "         print(n,\"is even\")\n",
    "    else:\n",
    "        print(n,\"is odd\")\n",
    "        n+=1"
   ]
  },
  {
   "cell_type": "code",
   "execution_count": 1,
   "metadata": {},
   "outputs": [
    {
     "name": "stdout",
     "output_type": "stream",
     "text": [
      "2 is even\n",
      "4 is even\n",
      "6 is even\n",
      "8 is even\n",
      "10 is even\n"
     ]
    }
   ],
   "source": [
    "n=1\n",
    "while(n<=10):\n",
    "    if n%2==0:\n",
    "        print( n,\"is even\")\n",
    "    \n",
    "        # print (n,\"is odd\")\n",
    "    n+=1   \n"
   ]
  },
  {
   "cell_type": "code",
   "execution_count": 2,
   "metadata": {},
   "outputs": [
    {
     "name": "stdout",
     "output_type": "stream",
     "text": [
      "enter the value10\n",
      "2 even\n",
      "4 even\n",
      "6 even\n",
      "8 even\n",
      "10 even\n"
     ]
    }
   ],
   "source": [
    "n1=int(input('enter the value'))\n",
    "i=1\n",
    "while i<=n1:\n",
    "    if i%2==0:\n",
    "        print(i,\"even\")\n",
    "    i+=1   "
   ]
  },
  {
   "cell_type": "code",
   "execution_count": 14,
   "metadata": {},
   "outputs": [
    {
     "name": "stdout",
     "output_type": "stream",
     "text": [
      "h\n",
      "e\n"
     ]
    }
   ],
   "source": [
    "s='hello'\n",
    "for i in s:\n",
    "    if i==\"l\":\n",
    "        break\n",
    "    print(i)\n",
    "        "
   ]
  },
  {
   "cell_type": "code",
   "execution_count": 15,
   "metadata": {},
   "outputs": [
    {
     "name": "stdout",
     "output_type": "stream",
     "text": [
      "h\n",
      "e\n",
      "o\n"
     ]
    }
   ],
   "source": [
    "s='hello'\n",
    "for i in s:\n",
    "    if i==\"l\":\n",
    "        continue\n",
    "    print(i)\n",
    "        "
   ]
  },
  {
   "cell_type": "code",
   "execution_count": null,
   "metadata": {},
   "outputs": [],
   "source": [
    "def name:\n",
    "    pass"
   ]
  },
  {
   "cell_type": "code",
   "execution_count": null,
   "metadata": {},
   "outputs": [],
   "source": [
    "# functions type\n",
    "\n",
    "# predefined:-print,char,ord,input,bin,sum,max,round,sorted,type,all,next,len,oct,abs\n",
    "\n",
    "# userdefined\n",
    "\n",
    "#special functions"
   ]
  },
  {
   "cell_type": "code",
   "execution_count": 40,
   "metadata": {},
   "outputs": [
    {
     "data": {
      "text/plain": [
       "1"
      ]
     },
     "execution_count": 40,
     "metadata": {},
     "output_type": "execute_result"
    }
   ],
   "source": [
    "# predefined functions\n",
    "a=\"python workshop\"\n",
    "b=[1,2,3,4,5]\n",
    "c='h'\n",
    "len(a)\n",
    "type(a)\n",
    "ord('z')\n",
    "bin(5)\n",
    "sum(b)\n",
    "max(a)\n",
    "min(a)\n",
    "round(10.5)\n",
    "sorted(a)\n",
    "all(c)\n",
    "any(c)\n",
    "abs(-1)\n"
   ]
  },
  {
   "cell_type": "code",
   "execution_count": null,
   "metadata": {},
   "outputs": [],
   "source": []
  },
  {
   "cell_type": "code",
   "execution_count": null,
   "metadata": {},
   "outputs": [],
   "source": []
  }
 ],
 "metadata": {
  "kernelspec": {
   "display_name": "Python 3",
   "language": "python",
   "name": "python3"
  },
  "language_info": {
   "codemirror_mode": {
    "name": "ipython",
    "version": 3
   },
   "file_extension": ".py",
   "mimetype": "text/x-python",
   "name": "python",
   "nbconvert_exporter": "python",
   "pygments_lexer": "ipython3",
   "version": "3.7.3"
  }
 },
 "nbformat": 4,
 "nbformat_minor": 2
}
