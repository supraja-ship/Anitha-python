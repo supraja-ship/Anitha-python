{
 "cells": [
  {
   "cell_type": "code",
   "execution_count": 2,
   "metadata": {},
   "outputs": [
    {
     "name": "stdout",
     "output_type": "stream",
     "text": [
      "enter u name:-ani\n",
      "enter pwd:-ani@123\n",
      "welcome ani\n"
     ]
    }
   ],
   "source": [
    "uname=input('enter u name:-')\n",
    "pwd=input('enter pwd:-')\n",
    "if uname==\"ani\" and pwd==\"ani@123\":\n",
    "    print('welcome',uname)\n",
    "else:\n",
    "    print('Invalid uname or password')"
   ]
  },
  {
   "cell_type": "code",
   "execution_count": 1,
   "metadata": {},
   "outputs": [
    {
     "name": "stdout",
     "output_type": "stream",
     "text": [
      "enter u name:-ani\n",
      "enter pwd:-········\n",
      "welcome ani\n"
     ]
    }
   ],
   "source": [
    "from getpass import getpass\n",
    "uname=input('enter u name:-')\n",
    "pwd=getpass('enter pwd:-')\n",
    "if uname==\"ani\" and pwd==\"ani@123\":\n",
    "    print('welcome',uname)\n",
    "else:\n",
    "    print('Invalid uname or password')"
   ]
  },
  {
   "cell_type": "code",
   "execution_count": null,
   "metadata": {},
   "outputs": [],
   "source": [
    "# write a program ton print user names and gives values\n",
    "data=input('Enter the any kind of data:-')\n",
    "if data>='a'and data<='z' or data>='A'and data<='z':\n",
    "     print(data,'alpabet')\n",
    "elif data>='0' and dta<='9':\n",
    "    print(data,'is digit')\n",
    "else:\n",
    "    print(data,'special character')"
   ]
  },
  {
   "cell_type": "code",
   "execution_count": null,
   "metadata": {},
   "outputs": [],
   "source": []
  }
 ],
 "metadata": {
  "kernelspec": {
   "display_name": "Python 3",
   "language": "python",
   "name": "python3"
  },
  "language_info": {
   "codemirror_mode": {
    "name": "ipython",
    "version": 3
   },
   "file_extension": ".py",
   "mimetype": "text/x-python",
   "name": "python",
   "nbconvert_exporter": "python",
   "pygments_lexer": "ipython3",
   "version": "3.7.3"
  }
 },
 "nbformat": 4,
 "nbformat_minor": 2
}
